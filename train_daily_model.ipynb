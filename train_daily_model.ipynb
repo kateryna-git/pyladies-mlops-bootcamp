{
 "cells": [
  {
   "cell_type": "markdown",
   "source": [
    "MIT License\n",
    "\n",
    "Copyright (c) Microsoft Corporation. All rights reserved.\n",
    "\n",
    "This notebook is adapted from Francesca Lazzeri Energy Demand Forecast Workbench workshop.\n",
    "\n",
    "Copyright (c) 2021 PyLadies Amsterdam, Alyona Galyeva"
   ],
   "metadata": {}
  },
  {
   "cell_type": "markdown",
   "source": [
    "# Linear regression with recursive feature elimination"
   ],
   "metadata": {}
  },
  {
   "cell_type": "code",
   "execution_count": 34,
   "source": [
    "%matplotlib inline\r\n",
    "import os\r\n",
    "import pickle\r\n",
    "import matplotlib\r\n",
    "import matplotlib.pyplot as plt\r\n",
    "import matplotlib.gridspec as gridspec\r\n",
    "import pandas as pd\r\n",
    "import numpy as np\r\n",
    "from azureml.core import Workspace, Dataset\r\n",
    "from azureml.core.experiment import Experiment\r\n",
    "from sklearn.compose import ColumnTransformer\r\n",
    "from sklearn.linear_model import LinearRegression\r\n",
    "from sklearn.feature_selection import RFECV\r\n",
    "from sklearn.metrics import mean_squared_error\r\n",
    "from sklearn.model_selection import TimeSeriesSplit\r\n",
    "from sklearn.pipeline import Pipeline\r\n",
    "from sklearn.preprocessing import OneHotEncoder\r\n",
    "from sklearn.metrics import mean_absolute_percentage_error"
   ],
   "outputs": [],
   "metadata": {}
  },
  {
   "cell_type": "markdown",
   "source": [
    "This notebook shows how to train a linear regression model to create a forecast of future energy demand. In particular, the model will be trained to predict energy demand in period $t_{+1}$, one hour ahead of the current time period $t$. This is known as 'one-step' time series forecasting because we are predicting one period into the future."
   ],
   "metadata": {}
  },
  {
   "cell_type": "code",
   "execution_count": 3,
   "source": [
    "WORKDIR = os.getcwd()\r\n",
    "MODEL_NAME = \"linear_regression\""
   ],
   "outputs": [],
   "metadata": {}
  },
  {
   "cell_type": "code",
   "execution_count": 5,
   "source": [
    "ws = Workspace.from_config()"
   ],
   "outputs": [],
   "metadata": {}
  },
  {
   "cell_type": "code",
   "execution_count": 18,
   "source": [
    "train_ds = Dataset.get_by_name(ws, name=\"capstone_data_processed\")\r\n",
    "print(train_ds.name, train_ds.version)"
   ],
   "outputs": [
    {
     "output_type": "stream",
     "name": "stdout",
     "text": [
      "capstone_data_processed 2\n"
     ]
    }
   ],
   "metadata": {}
  },
  {
   "cell_type": "code",
   "execution_count": 23,
   "source": [
    "train = (train_ds.to_pandas_dataframe()\r\n",
    "                 .set_index(['data_index_'])\r\n",
    "                 .loc[:'2021-05-31 00:00:00']\r\n",
    "                 .reset_index(drop=True)\r\n",
    "     # .drop(['load'], axis=1)\r\n",
    ")"
   ],
   "outputs": [],
   "metadata": {}
  },
  {
   "cell_type": "code",
   "execution_count": 31,
   "source": [
    "test =(train_ds.to_pandas_dataframe()\r\n",
    "     .set_index(['data_index_'])\r\n",
    "     .loc['2021-05-31 00:00:00':'2021-06-06 00:00:00']\r\n",
    "     .reset_index(drop=True)\r\n",
    "     )"
   ],
   "outputs": [],
   "metadata": {}
  },
  {
   "cell_type": "markdown",
   "source": [
    "Create design matrix - each column in this matrix represents a model feature and each row is a training example. We remove the *demand* and *timeStamp* variables as they are not model features."
   ],
   "metadata": {}
  },
  {
   "cell_type": "code",
   "execution_count": 32,
   "source": [
    "lr = LinearRegression()\r\n",
    "lr.fit(train.drop(['load'], axis=1), train[\"load\"])\r\n",
    "y_pred = lr.predict(test.drop(['load'], axis=1))"
   ],
   "outputs": [],
   "metadata": {}
  },
  {
   "cell_type": "code",
   "execution_count": 35,
   "source": [
    "mean_absolute_percentage_error(test.load, y_pred)"
   ],
   "outputs": [
    {
     "output_type": "execute_result",
     "data": {
      "text/plain": [
       "0.017433209773943137"
      ]
     },
     "metadata": {},
     "execution_count": 35
    }
   ],
   "metadata": {}
  },
  {
   "cell_type": "code",
   "execution_count": 36,
   "source": [
    "\r\n",
    "with open(os.path.join(WORKDIR, MODEL_NAME + '.pkl'), 'wb') as f:\r\n",
    "    pickle.dump(lr, f)"
   ],
   "outputs": [],
   "metadata": {}
  }
 ],
 "metadata": {
  "kernelspec": {
   "name": "python3",
   "display_name": "Python 3.8.10 64-bit ('mlops_train': conda)"
  },
  "language_info": {
   "codemirror_mode": {
    "name": "ipython",
    "version": 3
   },
   "file_extension": ".py",
   "mimetype": "text/x-python",
   "name": "python",
   "nbconvert_exporter": "python",
   "pygments_lexer": "ipython3",
   "version": "3.8.10"
  },
  "interpreter": {
   "hash": "f4a38f7cfc347f574ac2985ffe283dabb405e5d74fe5a4bc2e7b5b4663ea91d8"
  }
 },
 "nbformat": 4,
 "nbformat_minor": 2
}