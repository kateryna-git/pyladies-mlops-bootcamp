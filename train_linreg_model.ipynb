{
 "cells": [
  {
   "cell_type": "markdown",
   "source": [
    "MIT License\n",
    "\n",
    "Copyright (c) Microsoft Corporation. All rights reserved.\n",
    "\n",
    "This notebook is adapted from Francesca Lazzeri Energy Demand Forecast Workbench workshop.\n",
    "\n",
    "Copyright (c) 2021 PyLadies Amsterdam, Alyona Galyeva"
   ],
   "metadata": {}
  },
  {
   "cell_type": "markdown",
   "source": [
    "# Linear regression with recursive feature elimination"
   ],
   "metadata": {}
  },
  {
   "cell_type": "code",
   "execution_count": 34,
   "source": [
    "%matplotlib inline\r\n",
    "import os\r\n",
    "import pickle\r\n",
    "import matplotlib\r\n",
    "import matplotlib.pyplot as plt\r\n",
    "import matplotlib.gridspec as gridspec\r\n",
    "import pandas as pd\r\n",
    "import numpy as np\r\n",
    "from azureml.core import Workspace, Dataset\r\n",
    "from azureml.core.experiment import Experiment\r\n",
    "from sklearn.compose import ColumnTransformer\r\n",
    "from sklearn.linear_model import LinearRegression\r\n",
    "from sklearn.feature_selection import RFECV\r\n",
    "from sklearn.metrics import mean_squared_error\r\n",
    "from sklearn.model_selection import TimeSeriesSplit\r\n",
    "from sklearn.pipeline import Pipeline\r\n",
    "from sklearn.preprocessing import OneHotEncoder\r\n",
    "from sklearn.metrics import mean_absolute_percentage_error"
   ],
   "outputs": [],
   "metadata": {}
  },
  {
   "cell_type": "markdown",
   "source": [
    "This notebook shows how to train a linear regression model to create a forecast of future energy demand. In particular, the model will be trained to predict energy demand in period $t_{+1}$, one hour ahead of the current time period $t$. This is known as 'one-step' time series forecasting because we are predicting one period into the future."
   ],
   "metadata": {}
  },
  {
   "cell_type": "code",
   "execution_count": 3,
   "source": [
    "WORKDIR = os.getcwd()\r\n",
    "MODEL_NAME = \"linear_regression\""
   ],
   "outputs": [],
   "metadata": {}
  },
  {
   "cell_type": "code",
   "execution_count": 5,
   "source": [
    "ws = Workspace.from_config()"
   ],
   "outputs": [],
   "metadata": {}
  },
  {
   "cell_type": "code",
   "execution_count": 18,
   "source": [
    "train_ds = Dataset.get_by_name(ws, name=\"capstone_data_processed\")\r\n",
    "print(train_ds.name, train_ds.version)"
   ],
   "outputs": [
    {
     "output_type": "stream",
     "name": "stdout",
     "text": [
      "capstone_data_processed 2\n"
     ]
    }
   ],
   "metadata": {}
  },
  {
   "cell_type": "code",
   "execution_count": 23,
   "source": [
    "train = (train_ds.to_pandas_dataframe()\r\n",
    "                 .set_index(['data_index_'])\r\n",
    "                 .loc[:'2021-05-31 00:00:00']\r\n",
    "                 .reset_index(drop=True)\r\n",
    "     # .drop(['load'], axis=1)\r\n",
    ")"
   ],
   "outputs": [],
   "metadata": {}
  },
  {
   "cell_type": "code",
   "execution_count": 31,
   "source": [
    "test =(train_ds.to_pandas_dataframe()\r\n",
    "     .set_index(['data_index_'])\r\n",
    "     .loc['2021-05-31 00:00:00':'2021-06-06 00:00:00']\r\n",
    "     .reset_index(drop=True)\r\n",
    "     )"
   ],
   "outputs": [],
   "metadata": {}
  },
  {
   "cell_type": "markdown",
   "source": [
    "Create design matrix - each column in this matrix represents a model feature and each row is a training example. We remove the *demand* and *timeStamp* variables as they are not model features."
   ],
   "metadata": {}
  },
  {
   "cell_type": "code",
   "execution_count": 32,
   "source": [
    "lr = LinearRegression()\r\n",
    "lr.fit(train.drop(['load'], axis=1), train[\"load\"])\r\n",
    "y_pred = lr.predict(test.drop(['load'], axis=1))"
   ],
   "outputs": [],
   "metadata": {}
  },
  {
   "cell_type": "code",
   "execution_count": 35,
   "source": [
    "mean_absolute_percentage_error(test.load, y_pred)"
   ],
   "outputs": [
    {
     "output_type": "execute_result",
     "data": {
      "text/plain": [
       "0.017433209773943137"
      ]
     },
     "metadata": {},
     "execution_count": 35
    }
   ],
   "metadata": {}
  },
  {
   "cell_type": "code",
   "execution_count": 36,
   "source": [
    "\r\n",
    "with open(os.path.join(WORKDIR, MODEL_NAME + '.pkl'), 'wb') as f:\r\n",
    "    pickle.dump(lr, f)"
   ],
   "outputs": [],
   "metadata": {}
  },
  {
   "cell_type": "code",
   "execution_count": null,
   "source": [
    "# lr_experiment = Experiment(ws, name=\"LR\")\r\n",
    "# run = lr_experiment.start_logging()\r\n",
    "\r\n",
    "# run.log(\"dataset name\", train_ds.name)\r\n",
    "# run.log(\"dataset version\", train_ds.version)"
   ],
   "outputs": [],
   "metadata": {}
  },
  {
   "cell_type": "markdown",
   "source": [
    "### Create predictive model pipeline"
   ],
   "metadata": {}
  },
  {
   "cell_type": "markdown",
   "source": [
    "Here we use sklearn's Pipeline functionality to create a predictive model pipeline. For this model, the pipeline implements the following steps:\n",
    "- **one-hot encode categorical variables** - this creates a feature for each unique value of a categorical feature. For example, the feature *dayofweek* has 7 unique values. This feature is split into 7 individual features dayofweek0, dayofweek1, ... , dayofweek6. The value of these features is 1 if the timeStamp corresponds to that day of the week, otherwise it is 0.\n",
    "- **recursive feature elimination with cross validation (RFECV)** - it is often the case that some features add little predictive power to a model and may even make the model accuracy worse. Recursive feature elimination tests the model accuracy on increasingly smaller subsets of the features to identify the subset which produces the most accurate model. Cross validation is used to test each subset on multiple folds of the input data. The best model is that which achieves the lowest mean squared error averaged across the cross validation folds.\n",
    "- **train final model** - the best model found in after the feature elimination process is used to train the final estimator on the whole dataset.\n",
    "\n",
    "Identify indices for categorical columns for one hot encoding and create the OneHotEncoder:"
   ],
   "metadata": {}
  },
  {
   "cell_type": "code",
   "execution_count": null,
   "source": [
    "# cat_cols = ['hour', 'month', 'dayofweek']\r\n",
    "# cat_cols_idx = [X.columns.get_loc(c) for c in X.columns if c in cat_cols]\r\n",
    "# run.log_list(\"cat_cols\", cat_cols)"
   ],
   "outputs": [],
   "metadata": {}
  },
  {
   "cell_type": "code",
   "execution_count": null,
   "source": [
    "# preprocessor = ColumnTransformer([('encoder', OneHotEncoder(sparse=False), cat_cols_idx)], remainder='passthrough')"
   ],
   "outputs": [],
   "metadata": {}
  },
  {
   "cell_type": "markdown",
   "source": [
    "Create the linear regression model object:"
   ],
   "metadata": {}
  },
  {
   "cell_type": "code",
   "execution_count": 15,
   "source": [
    "regr = LinearRegression(fit_intercept=True)"
   ],
   "outputs": [],
   "metadata": {}
  },
  {
   "cell_type": "markdown",
   "source": [
    "For hyperparameter tuning and feature selection, cross validation will be performed using the training set. With time series forecasting, it is important that test data comes from a later time period than the training data. This also applies to each fold in cross validation. Therefore a time series split is used to create three folds for cross validation as illustrated below. Each time series plot represents a separate training/test split, with the training set coloured in blue and the test set coloured in red. Note that, even in the first split, the training data covers at least a full year so that the model can learn the annual seasonality of the demand."
   ],
   "metadata": {}
  },
  {
   "cell_type": "code",
   "execution_count": null,
   "source": [
    "tscv = TimeSeriesSplit(n_splits=3)"
   ],
   "outputs": [],
   "metadata": {}
  },
  {
   "cell_type": "code",
   "execution_count": null,
   "source": [
    "demand_ts = train[['timeStamp', 'demand']].copy()\r\n",
    "demand_ts.reset_index(drop=True, inplace=True)\r\n",
    "\r\n",
    "for split_num, split_idx  in enumerate(tscv.split(demand_ts)):\r\n",
    "    split_num = str(split_num)\r\n",
    "    train_idx = split_idx[0]\r\n",
    "    test_idx = split_idx[1]\r\n",
    "    demand_ts['fold' + split_num] = \"not used\"\r\n",
    "    demand_ts.loc[train_idx, 'fold' + split_num] = \"train\"\r\n",
    "    demand_ts.loc[test_idx, 'fold' + split_num] = \"test\"\r\n",
    "\r\n",
    "gs = gridspec.GridSpec(3,1)\r\n",
    "fig = plt.figure(figsize=(15, 10), tight_layout=True)\r\n",
    "\r\n",
    "ax = fig.add_subplot(gs[0])\r\n",
    "ax.plot(demand_ts.loc[demand_ts['fold0']==\"train\", \"timeStamp\"], demand_ts.loc[demand_ts['fold0']==\"train\", \"demand\"], color='b')\r\n",
    "ax.plot(demand_ts.loc[demand_ts['fold0']==\"test\", \"timeStamp\"], demand_ts.loc[demand_ts['fold0']==\"test\", \"demand\"], 'r')\r\n",
    "ax.plot(demand_ts.loc[demand_ts['fold0']==\"not used\", \"timeStamp\"], demand_ts.loc[demand_ts['fold0']==\"not used\", \"demand\"], 'w')\r\n",
    "\r\n",
    "ax = fig.add_subplot(gs[1], sharex=ax)\r\n",
    "plt.plot(demand_ts.loc[demand_ts['fold1']==\"train\", \"timeStamp\"], demand_ts.loc[demand_ts['fold1']==\"train\", \"demand\"], 'b')\r\n",
    "plt.plot(demand_ts.loc[demand_ts['fold1']==\"test\", \"timeStamp\"], demand_ts.loc[demand_ts['fold1']==\"test\", \"demand\"], 'r')\r\n",
    "plt.plot(demand_ts.loc[demand_ts['fold1']==\"not used\", \"timeStamp\"], demand_ts.loc[demand_ts['fold1']==\"not used\", \"demand\"], 'w')\r\n",
    "\r\n",
    "ax = fig.add_subplot(gs[2], sharex=ax)\r\n",
    "plt.plot(demand_ts.loc[demand_ts['fold2']==\"train\", \"timeStamp\"], demand_ts.loc[demand_ts['fold2']==\"train\", \"demand\"], 'b')\r\n",
    "plt.plot(demand_ts.loc[demand_ts['fold2']==\"test\", \"timeStamp\"], demand_ts.loc[demand_ts['fold2']==\"test\", \"demand\"], 'r')\r\n",
    "plt.plot(demand_ts.loc[demand_ts['fold2']==\"not used\", \"timeStamp\"], demand_ts.loc[demand_ts['fold2']==\"not used\", \"demand\"], 'w')\r\n",
    "plt.show()"
   ],
   "outputs": [],
   "metadata": {}
  },
  {
   "cell_type": "markdown",
   "source": [
    "Create the RFECV object. Note the metric for evaluating the model on each fold is the negative mean squared error. The best model is that which maximises this metric."
   ],
   "metadata": {}
  },
  {
   "cell_type": "code",
   "execution_count": null,
   "source": [
    "regr_cv = RFECV(estimator=regr,\r\n",
    "             cv=tscv,\r\n",
    "             scoring='neg_mean_squared_error',\r\n",
    "             verbose=2,\r\n",
    "             n_jobs=-1)"
   ],
   "outputs": [],
   "metadata": {}
  },
  {
   "cell_type": "markdown",
   "source": [
    "Create the model pipeline object."
   ],
   "metadata": {}
  },
  {
   "cell_type": "code",
   "execution_count": null,
   "source": [
    "regr_pipe = Pipeline([('preprocessor', preprocessor), ('rfecv', regr_cv)])"
   ],
   "outputs": [],
   "metadata": {}
  },
  {
   "cell_type": "markdown",
   "source": [
    "Train the model pipeline. This should only take a few seconds."
   ],
   "metadata": {}
  },
  {
   "cell_type": "code",
   "execution_count": null,
   "source": [
    "regr_pipe.fit(X, y=train['demand'])"
   ],
   "outputs": [],
   "metadata": {}
  },
  {
   "cell_type": "code",
   "execution_count": null,
   "source": [
    "run.log(\"pipeline steps\", regr_pipe.named_steps)"
   ],
   "outputs": [],
   "metadata": {}
  },
  {
   "cell_type": "markdown",
   "source": [
    "Save the trained model pipeline object."
   ],
   "metadata": {}
  },
  {
   "cell_type": "code",
   "execution_count": null,
   "source": [
    "with open(os.path.join(WORKDIR, MODEL_NAME + '.pkl'), 'wb') as f:\r\n",
    "    pickle.dump(regr_pipe, f)"
   ],
   "outputs": [],
   "metadata": {}
  },
  {
   "cell_type": "markdown",
   "source": [
    "### Explore cross validation results"
   ],
   "metadata": {}
  },
  {
   "cell_type": "markdown",
   "source": [
    "Best CV negative mean squared error:"
   ],
   "metadata": {}
  },
  {
   "cell_type": "code",
   "execution_count": null,
   "source": [
    "run.log(\"best CV negMSE\", max(regr_pipe.named_steps['rfecv'].grid_scores_))"
   ],
   "outputs": [],
   "metadata": {}
  },
  {
   "cell_type": "markdown",
   "source": [
    "Plot the cross validation errors with each subset of features. The chart shows that most features are useful to the model. However, the error gets significantly worse when there are 44 features or less in the model."
   ],
   "metadata": {
    "collapsed": true
   }
  },
  {
   "cell_type": "code",
   "execution_count": null,
   "source": [
    "cv_results = pd.DataFrame.from_dict({'cv_score': regr_pipe.named_steps['rfecv'].grid_scores_})\r\n",
    "cv_results['mean_squared_error'] = cv_results['cv_score']\r\n",
    "plt.figure(figsize=(15, 5))\r\n",
    "plt.plot(cv_results.index, cv_results['mean_squared_error'])\r\n",
    "plt.xlabel('number of features')\r\n",
    "plt.title('CV negative mean squared error')\r\n",
    "run.log_image(\"CV errors plot\", plot=plt)\r\n",
    "plt.show()\r\n"
   ],
   "outputs": [],
   "metadata": {
    "scrolled": true
   }
  },
  {
   "cell_type": "markdown",
   "source": [
    "Number of features selected:"
   ],
   "metadata": {}
  },
  {
   "cell_type": "code",
   "execution_count": null,
   "source": [
    "regr_pipe.named_steps['rfecv'].n_features_"
   ],
   "outputs": [],
   "metadata": {}
  },
  {
   "cell_type": "markdown",
   "source": [
    "Identify supported features after selection process:"
   ],
   "metadata": {}
  },
  {
   "cell_type": "code",
   "execution_count": null,
   "source": [
    "def get_onehot_cols(X):\r\n",
    "    X_dummy_cols = list(pd.get_dummies(X.copy()[cat_cols], columns=cat_cols).columns)\r\n",
    "    other_cols = list(X.columns.drop(cat_cols))\r\n",
    "    return X_dummy_cols + other_cols\r\n",
    "\r\n",
    "supported_features = pd.DataFrame.from_dict(\r\n",
    "    {'feature':get_onehot_cols(X), \r\n",
    "     'supported':regr_pipe.named_steps['rfecv'].support_}\r\n",
    ")\r\n",
    "supported_features"
   ],
   "outputs": [],
   "metadata": {}
  },
  {
   "cell_type": "markdown",
   "source": [
    "Inspect model coefficients for each included feature. The magnitude and direction of the coefficients indicates the effect the features has on the model."
   ],
   "metadata": {}
  },
  {
   "cell_type": "code",
   "execution_count": null,
   "source": [
    "coefs = supported_features.loc[supported_features['supported'], ].copy()\r\n",
    "coefs['coefficients'] = regr_pipe.named_steps['rfecv'].estimator_.coef_\r\n",
    "coefs.plot.bar('feature', 'coefficients', figsize=(15, 3), legend=False)\r\n",
    "run.log_image(\"LR coefs per feature\", plot=plt)\r\n",
    "plt.show()"
   ],
   "outputs": [],
   "metadata": {
    "scrolled": true
   }
  },
  {
   "cell_type": "code",
   "execution_count": null,
   "source": [
    "run.complete()"
   ],
   "outputs": [],
   "metadata": {}
  }
 ],
 "metadata": {
  "kernelspec": {
   "name": "python3",
   "display_name": "Python 3.8.10 64-bit ('mlops_train': conda)"
  },
  "language_info": {
   "codemirror_mode": {
    "name": "ipython",
    "version": 3
   },
   "file_extension": ".py",
   "mimetype": "text/x-python",
   "name": "python",
   "nbconvert_exporter": "python",
   "pygments_lexer": "ipython3",
   "version": "3.8.10"
  },
  "interpreter": {
   "hash": "f4a38f7cfc347f574ac2985ffe283dabb405e5d74fe5a4bc2e7b5b4663ea91d8"
  }
 },
 "nbformat": 4,
 "nbformat_minor": 2
}